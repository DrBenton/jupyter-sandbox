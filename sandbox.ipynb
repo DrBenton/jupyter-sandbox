{
 "cells": [
  {
   "cell_type": "code",
   "execution_count": 4,
   "metadata": {},
   "outputs": [
    {
     "name": "stdout",
     "output_type": "stream",
     "text": [
      "hi there\n"
     ]
    }
   ],
   "source": [
    "print(\"hi there\")"
   ]
  },
  {
   "cell_type": "markdown",
   "metadata": {},
   "source": [
    "## Io\n",
    "\n"
   ]
  },
  {
   "cell_type": "code",
   "execution_count": 5,
   "metadata": {},
   "outputs": [
    {
     "name": "stdout",
     "output_type": "stream",
     "text": [
      "Hello from Posgres PostgreSQL 10.5 on x86_64-pc-linux-musl, compiled by gcc (Alpine 6.4.0) 6.4.0, 64-bit\n"
     ]
    }
   ],
   "source": [
    "import os\n",
    "\n",
    "with open(\"test1.sql\") as sql_file:\n",
    "    sql = sql_file.read()\n",
    "\n",
    "import anosql\n",
    "import psycopg2\n",
    "\n",
    "conn = psycopg2.connect(host=os.getenv(\"POSTGRES_HOST\"), dbname=os.getenv(\"POSTGRES_DB\"), user=os.getenv(\"POSTGRES_USER\"), password=os.getenv(\"POSTGRES_PASSWORD\"))\n",
    "queries = anosql.load_queries('postgres', 'test1.sql')\n",
    "\n",
    "hello_world_result = queries.hello_world(conn)\n",
    "print(hello_world_result[0][0])\n",
    "\n",
    "#print(queries.available_queries)\n"
   ]
  }
 ],
 "metadata": {
  "kernelspec": {
   "display_name": "Python 3",
   "language": "python",
   "name": "python3"
  },
  "language_info": {
   "codemirror_mode": {
    "name": "ipython",
    "version": 3
   },
   "file_extension": ".py",
   "mimetype": "text/x-python",
   "name": "python",
   "nbconvert_exporter": "python",
   "pygments_lexer": "ipython3",
   "version": "3.7.0"
  }
 },
 "nbformat": 4,
 "nbformat_minor": 2
}
